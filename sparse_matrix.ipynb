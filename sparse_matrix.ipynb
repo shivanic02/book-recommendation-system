{
 "cells": [
  {
   "cell_type": "markdown",
   "id": "4d4b8eee",
   "metadata": {},
   "source": [
    "## Data Preparation"
   ]
  },
  {
   "cell_type": "code",
   "execution_count": 1,
   "id": "3c8ed843",
   "metadata": {},
   "outputs": [],
   "source": [
    "import pandas as pd\n",
    "import numpy as np\n",
    "from scipy.sparse import csr_matrix"
   ]
  },
  {
   "cell_type": "code",
   "execution_count": 5,
   "id": "7b04561e",
   "metadata": {},
   "outputs": [
    {
     "name": "stdout",
     "output_type": "stream",
     "text": [
      "First few rows of the original data:\n",
      "  User-ID        ISBN  Rating\n",
      "0  276725  034545104X       0\n",
      "1  276726  0155061224       5\n",
      "2  276727  0446520802       0\n",
      "3  276729  052165615X       3\n",
      "4  276729  0521795028       6\n",
      "\n",
      "Data types of columns:\n",
      "User-ID    object\n",
      "ISBN       object\n",
      "Rating      int64\n",
      "dtype: object\n"
     ]
    }
   ],
   "source": [
    "df = pd.read_csv('/workspaces/book-recommendation-system/dataset/Ratings.csv', sep=';', dtype={'User-ID': str, 'ISBN': str})\n",
    "print(\"First few rows of the original data:\")\n",
    "print(df.head())\n",
    "print(\"\\nData types of columns:\")\n",
    "print(df.dtypes)"
   ]
  },
  {
   "cell_type": "code",
   "execution_count": 7,
   "id": "c6cb2b47",
   "metadata": {},
   "outputs": [
    {
     "name": "stdout",
     "output_type": "stream",
     "text": [
      "\n",
      "No duplicate entries found.\n"
     ]
    }
   ],
   "source": [
    "duplicates = df[df.duplicated(subset=['User-ID', 'ISBN'], keep=False)]\n",
    "if not duplicates.empty:\n",
    "    print(\"\\nWarning: Duplicate entries found:\")\n",
    "    print(duplicates)\n",
    "else:\n",
    "    print(\"\\nNo duplicate entries found.\")"
   ]
  },
  {
   "cell_type": "code",
   "execution_count": 8,
   "id": "9e591608",
   "metadata": {},
   "outputs": [],
   "source": [
    "sorted_users = df['User-ID'].unique()\n",
    "sorted_books = df['ISBN'].unique()"
   ]
  },
  {
   "cell_type": "code",
   "execution_count": 9,
   "id": "5f143cb6",
   "metadata": {},
   "outputs": [],
   "source": [
    "user_to_index = {user: index for index, user in enumerate(sorted_users)}\n",
    "book_to_index = {book: index for index, book in enumerate(sorted_books)}"
   ]
  },
  {
   "cell_type": "code",
   "execution_count": 10,
   "id": "c6896fcc",
   "metadata": {},
   "outputs": [],
   "source": [
    "df['user_num'] = df['User-ID'].map(user_to_index)\n",
    "df['book_num'] = df['ISBN'].map(book_to_index)"
   ]
  },
  {
   "cell_type": "code",
   "execution_count": 13,
   "id": "89571661",
   "metadata": {},
   "outputs": [],
   "source": [
    "ratings_matrix = csr_matrix((df['Rating'], (df['user_num'], df['book_num'])))"
   ]
  },
  {
   "cell_type": "code",
   "execution_count": 14,
   "id": "a1767bda",
   "metadata": {},
   "outputs": [
    {
     "name": "stdout",
     "output_type": "stream",
     "text": [
      "\n",
      "First few user ID mappings:\n",
      "User-1: Original User-ID 276725\n",
      "User-2: Original User-ID 276726\n",
      "User-3: Original User-ID 276727\n",
      "User-4: Original User-ID 276729\n",
      "User-5: Original User-ID 276733\n",
      "\n",
      "First few book ISBN mappings:\n",
      "Book-1: Original ISBN 034545104X\n",
      "Book-2: Original ISBN 0155061224\n",
      "Book-3: Original ISBN 0446520802\n",
      "Book-4: Original ISBN 052165615X\n",
      "Book-5: Original ISBN 0521795028\n"
     ]
    }
   ],
   "source": [
    "print(\"\\nFirst few user ID mappings:\")\n",
    "for i, user_id in enumerate(sorted_users[:5]):\n",
    "    print(f\"User-{i+1}: Original User-ID {user_id}\")\n",
    "print(\"\\nFirst few book ISBN mappings:\")\n",
    "for i, isbn in enumerate(sorted_books[:5]):\n",
    "    print(f\"Book-{i+1}: Original ISBN {isbn}\")"
   ]
  },
  {
   "cell_type": "code",
   "execution_count": 15,
   "id": "0705258f",
   "metadata": {},
   "outputs": [
    {
     "name": "stdout",
     "output_type": "stream",
     "text": [
      "\n",
      "Matrix shape: (105283, 340556)\n",
      "Non-zero elements: 1149780\n",
      "Sparsity: 0.999968\n"
     ]
    }
   ],
   "source": [
    "print(f\"\\nMatrix shape: {ratings_matrix.shape}\")\n",
    "print(f\"Non-zero elements: {ratings_matrix.nnz}\")\n",
    "print(f\"Sparsity: {1 - (ratings_matrix.nnz / (ratings_matrix.shape[0] * ratings_matrix.shape[1])):.6f}\")"
   ]
  },
  {
   "cell_type": "code",
   "execution_count": 16,
   "id": "8c3f4568",
   "metadata": {},
   "outputs": [
    {
     "name": "stdout",
     "output_type": "stream",
     "text": [
      "\n",
      "First 10x10 submatrix:\n",
      "\n",
      "User 1: [0 0 0 0 0 0 0 0 0 0]\n",
      "User 2: [0 5 0 0 0 0 0 0 0 0]\n",
      "User 3: [0 0 0 0 0 0 0 0 0 0]\n",
      "User 4: [0 0 0 3 6 0 0 0 0 0]\n",
      "User 5: [0 0 0 0 0 0 0 0 0 0]\n",
      "User 6: [0 0 0 0 0 0 8 0 0 0]\n",
      "User 7: [0 0 0 0 0 0 0 6 0 0]\n",
      "User 8: [0 0 0 0 0 0 0 0 7 0]\n",
      "User 9: [0 0 0 0 0 0 0 0 0 10]\n",
      "User 10: [0 0 0 0 0 0 0 0 0 0]\n"
     ]
    }
   ],
   "source": [
    "def print_submatrix(matrix, rows, cols):\n",
    "    submatrix = matrix[:rows, :cols].toarray()\n",
    "    print(f\"\\nFirst {rows}x{cols} submatrix:\")\n",
    "    print(\"\")\n",
    "    for i in range(rows):\n",
    "        row = [f\"{int(submatrix[i, j])}\" if submatrix[i, j] != 0 else \"0\" for j in range(cols)]\n",
    "        print(f\"User {i+1}: [{' '.join(row)}]\") \n",
    "print_submatrix(ratings_matrix, 10, 10)"
   ]
  },
  {
   "cell_type": "code",
   "execution_count": 17,
   "id": "dc774f86",
   "metadata": {},
   "outputs": [],
   "source": [
    "def print_user_ratings(user_id):\n",
    "    user_index = user_to_index[user_id]\n",
    "    user_ratings = ratings_matrix[user_index].toarray()[0]\n",
    "    non_zero_ratings = [(book_to_index[sorted_books[i]], rating) for i, rating in enumerate(user_ratings) if rating != 0]\n",
    "    print(f\"\\nRatings for User {user_id}:\")\n",
    "    for book_index, rating in non_zero_ratings:\n",
    "        print(f\"Book {book_index + 1} (ISBN: {sorted_books[book_index]}): Rating {int(rating)}\")"
   ]
  },
  {
   "cell_type": "code",
   "execution_count": 19,
   "id": "ea73e51b",
   "metadata": {},
   "outputs": [
    {
     "name": "stdout",
     "output_type": "stream",
     "text": [
      "\n",
      "Ratings for User 276725:\n",
      "\n",
      "Ratings for User 276726:\n",
      "Book 2 (ISBN: 0155061224): Rating 5\n",
      "\n",
      "Ratings for User 276727:\n",
      "\n",
      "Ratings for User 276729:\n",
      "Book 4 (ISBN: 052165615X): Rating 3\n",
      "Book 5 (ISBN: 0521795028): Rating 6\n",
      "\n",
      "Ratings for User 276733:\n"
     ]
    }
   ],
   "source": [
    "for user_id in sorted_users[:5]:\n",
    "    print_user_ratings(user_id)"
   ]
  },
  {
   "cell_type": "code",
   "execution_count": 23,
   "id": "78337969",
   "metadata": {},
   "outputs": [],
   "source": [
    "def sparse_to_libsvm(sparse_matrix, output_file):\n",
    "    with open(output_file, 'w') as f:\n",
    "        for i in range(sparse_matrix.shape[0]):\n",
    "            row = sparse_matrix.getrow(i)\n",
    "            line = f\"{i+1}\" # User ID (1-indexed)  \n",
    "            for j, v in zip(row.indices, row.data):\n",
    "                line += f\" {j+1}:{int(v)}\" # Book ID (1-indexed) : Rating \n",
    "            f.write(line + '\\n') "
   ]
  },
  {
   "cell_type": "code",
   "execution_count": 24,
   "id": "a7af98d5",
   "metadata": {},
   "outputs": [
    {
     "name": "stdout",
     "output_type": "stream",
     "text": [
      "\n",
      "Saved user-book ratings in libsvm format to 'user_book_ratings.libsvm'\n"
     ]
    }
   ],
   "source": [
    "sparse_to_libsvm(ratings_matrix, 'user_book_ratings.libsvm')\n",
    "print(\"\\nSaved user-book ratings in libsvm format to 'user_book_ratings.libsvm'\")"
   ]
  },
  {
   "cell_type": "markdown",
   "id": "bc51eb06",
   "metadata": {},
   "source": [
    "In the Libsvm file the first column represents the users in ascending order follwed by the ratings given by them to\n",
    "different books."
   ]
  },
  {
   "cell_type": "code",
   "execution_count": null,
   "id": "8fefd01e",
   "metadata": {},
   "outputs": [],
   "source": []
  }
 ],
 "metadata": {
  "kernelspec": {
   "display_name": "Python 3",
   "language": "python",
   "name": "python3"
  },
  "language_info": {
   "codemirror_mode": {
    "name": "ipython",
    "version": 3
   },
   "file_extension": ".py",
   "mimetype": "text/x-python",
   "name": "python",
   "nbconvert_exporter": "python",
   "pygments_lexer": "ipython3",
   "version": "3.12.1"
  }
 },
 "nbformat": 4,
 "nbformat_minor": 5
}
